{
 "cells": [
  {
   "cell_type": "code",
   "execution_count": 11,
   "id": "c7c9951c-0d1d-4c73-8e61-39163bf7487f",
   "metadata": {},
   "outputs": [
    {
     "name": "stdout",
     "output_type": "stream",
     "text": [
      "Total marks: 433\n",
      "Avearge marks: 86.60\n",
      "Grade: B\n"
     ]
    }
   ],
   "source": [
    "def calculate_grade(marks):\n",
    "    total = sum(marks)\n",
    "    average = total / len(marks)\n",
    "    if average >=90:\n",
    "        grade ='A'\n",
    "    elif average >= 80:\n",
    "        grade ='B'\n",
    "    elif average >= 70:\n",
    "        grade ='C'\n",
    "    elif average >=60:\n",
    "        grade ='D'\n",
    "    else:\n",
    "        grade ='F'\n",
    "    return total, average, grade\n",
    "student_marks= [85,92,78,90,88]\n",
    "total, average , grade = calculate_grade(student_marks)\n",
    "print(f\"Total marks: {total}\")\n",
    "print(f\"Avearge marks: {average:.2f}\")\n",
    "print(f\"Grade: {grade}\")"
   ]
  },
  {
   "cell_type": "code",
   "execution_count": null,
   "id": "ecd73c25-1e30-4cd9-9484-2482dcd37aeb",
   "metadata": {},
   "outputs": [],
   "source": []
  }
 ],
 "metadata": {
  "kernelspec": {
   "display_name": "Python 3 (ipykernel)",
   "language": "python",
   "name": "python3"
  },
  "language_info": {
   "codemirror_mode": {
    "name": "ipython",
    "version": 3
   },
   "file_extension": ".py",
   "mimetype": "text/x-python",
   "name": "python",
   "nbconvert_exporter": "python",
   "pygments_lexer": "ipython3",
   "version": "3.9.18"
  }
 },
 "nbformat": 4,
 "nbformat_minor": 5
}
